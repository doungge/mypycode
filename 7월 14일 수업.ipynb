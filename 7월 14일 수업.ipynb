{
 "cells": [
  {
   "cell_type": "code",
   "execution_count": 6,
   "metadata": {},
   "outputs": [
    {
     "name": "stdout",
     "output_type": "stream",
     "text": [
      " C 드라이브의 볼륨: OS\n",
      " 볼륨 일련 번호: 10CE-33E0\n",
      "\n",
      " C:\\mypycode 디렉터리\n",
      "\n",
      "2021-07-14  오후 04:25    <DIR>          .\n",
      "2021-07-14  오후 04:25    <DIR>          ..\n",
      "2021-07-14  오후 03:45    <DIR>          .ipynb_checkpoints\n",
      "2021-07-14  오후 04:25               880 7월 14일 수업.ipynb\n",
      "2021-05-10  오후 01:33    <DIR>          data\n",
      "2021-05-10  오후 01:33    <DIR>          figures\n",
      "2021-05-10  오후 02:16               116 hellowspyder.py\n",
      "2021-05-10  오후 01:37                22 hellow_python.py\n",
      "2021-06-16  오후 09:51            96,534 mbox-shor.txt\n",
      "2021-05-10  오후 01:33    <DIR>          modules\n",
      "2021-05-11  오후 06:57                22 myfile.txt\n",
      "2021-05-11  오후 07:25                 0 mytextfile2.txt\n",
      "2021-05-11  오후 07:25                37 mytextfile3.txt\n",
      "2021-07-14  오후 03:29             7,003 p151.ipynb\n",
      "2021-05-10  오후 01:33    <DIR>          packages\n",
      "2021-05-10  오후 05:00            10,322 python_code.ipynb\n",
      "2021-07-11  오후 04:36           728,176 test.html\n",
      "2021-05-11  오후 07:04                36 two_times_table.txt\n",
      "2021-07-14  오후 03:44            48,236 Untitled.ipynb\n",
      "2021-06-16  오후 09:32                72 Untitled1.ipynb\n",
      "2021-06-16  오후 09:33             1,193 words.txt\n",
      "2021-07-14  오후 02:33            45,542 천안시 가로등.ipynb\n",
      "              15개 파일             938,191 바이트\n",
      "               7개 디렉터리  298,797,989,888 바이트 남음\n"
     ]
    }
   ],
   "source": [
    "!dir"
   ]
  },
  {
   "cell_type": "code",
   "execution_count": 7,
   "metadata": {
    "scrolled": true
   },
   "outputs": [
    {
     "name": "stdout",
     "output_type": "stream",
     "text": [
      "dddd\n",
      "ddd\n",
      "dddaa\n"
     ]
    }
   ],
   "source": [
    "print('dddd')\n",
    "\n",
    "print('ddd')\n",
    "\n",
    "\n",
    "\n",
    "print('dddaa')"
   ]
  },
  {
   "cell_type": "code",
   "execution_count": 8,
   "metadata": {},
   "outputs": [
    {
     "name": "stdout",
     "output_type": "stream",
     "text": [
      "'Hellow'\n"
     ]
    }
   ],
   "source": [
    "!echo 'Hellow'"
   ]
  },
  {
   "cell_type": "code",
   "execution_count": 7,
   "metadata": {},
   "outputs": [
    {
     "ename": "SyntaxError",
     "evalue": "cannot assign to operator (<ipython-input-7-38de67d74354>, line 9)",
     "output_type": "error",
     "traceback": [
      "\u001b[1;36m  File \u001b[1;32m\"<ipython-input-7-38de67d74354>\"\u001b[1;36m, line \u001b[1;32m9\u001b[0m\n\u001b[1;33m    imf-dm-export = pd.read_csv(\"C:/mypycode/imf-dm-export.csv\", thousands= ',', delimiter='\\t',\u001b[0m\n\u001b[1;37m    ^\u001b[0m\n\u001b[1;31mSyntaxError\u001b[0m\u001b[1;31m:\u001b[0m cannot assign to operator\n"
     ]
    }
   ],
   "source": [
    "import matplotlib\n",
    "import matplotlib.pyplot as plt\n",
    "import numpy as np\n",
    "import pandas as pd\n",
    "import sklearn\n",
    "\n",
    "#데이터 적제\n",
    "oecd_bil = pd.read_csv(\"C:/mypycode/BLI.csv\", thousands=',')\n",
    "imf-dm-export = pd.read_csv(\"C:/mypycode/imf-dm-export.csv\", thousands= ',', delimiter='\\t',\n",
    "                             encoding='latin1', na_values=\"n/a\")\n",
    "\n",
    "country_stats = prepare_country_state(oecd_bli, imf-dm-export)\n",
    "X = np.c_[country_state[\"IMF dm expert\"]]\n",
    "Y = np.c_[country_state[\"Life satisfaction\"]]\n",
    "\n",
    "country_stats.plot(kind='scatter', x=\"IMF dm expert\", y='Life satisfaction')\n",
    "plt.show()\n",
    "\n",
    "model = sklearn.linear_model.LinearRegression()\n",
    "\n",
    "model.fit(X,Y)\n",
    "\n",
    "X_new = [[22587]]\n",
    "print(model.predict(X_new))"
   ]
  },
  {
   "cell_type": "code",
   "execution_count": null,
   "metadata": {},
   "outputs": [],
   "source": []
  }
 ],
 "metadata": {
  "kernelspec": {
   "display_name": "Python 3",
   "language": "python",
   "name": "python3"
  },
  "language_info": {
   "codemirror_mode": {
    "name": "ipython",
    "version": 3
   },
   "file_extension": ".py",
   "mimetype": "text/x-python",
   "name": "python",
   "nbconvert_exporter": "python",
   "pygments_lexer": "ipython3",
   "version": "3.8.5"
  }
 },
 "nbformat": 4,
 "nbformat_minor": 4
}
